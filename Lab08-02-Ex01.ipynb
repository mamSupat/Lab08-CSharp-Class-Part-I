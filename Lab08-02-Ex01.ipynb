{
 "cells": [
  {
   "cell_type": "markdown",
   "metadata": {},
   "source": [
    "# Lab 8 Exercise 1 \n",
    "##  การสร้าง Class\n"
   ]
  },
  {
   "cell_type": "markdown",
   "metadata": {},
   "source": [
    "\n",
    "1. สร้าง console application project\n"
   ]
  },
  {
   "cell_type": "markdown",
   "metadata": {},
   "source": [
    "1.1 เรียก terminal (cmd) ขึ้นมา \n",
    "\n",
    "1.2 ตรวจสอบให้แน่ใจว่าอยู่ใน folder หรือ directory ที่ต้องการสร้าง project \n",
    "\n",
    "1.3 พิมพ์คำสั่งต่อไปนี้\n",
    "\n",
    "``` \n",
    "    dotnet new console --name Lab08_Ex01\n",
    "```\n",
    "\n",
    "1.4 ใช้คำสั่ง dir เพื่อตรวจสอบดูว่าโฟลเดอร์ของ project ได้ถูกสร้างขึ้นแล้วหรือยัง"
   ]
  },
  {
   "cell_type": "markdown",
   "metadata": {},
   "source": [
    "\n",
    "2. เปลี่ยน code ในไฟล์ program.cs ให้เป็นดังต่อไปนี้ (ตัวเลขข้างหน้า คือหมายเลขบรรทัด ไว้สำหรับอ้างอิง)\n",
    "\n",
    "> ```c#\n",
    "> 1.  Person p = new Person();\n",
    "> 2.  System.Console.WriteLine($\"Type of p is {p.GetType()}\");\n",
    "> 3.  \n",
    "> 4.  class Person\n",
    "> 5.  {\n",
    "> 6.  \n",
    "> 7.  }\n",
    "> ```\n"
   ]
  },
  {
   "cell_type": "markdown",
   "metadata": {},
   "source": [
    "\n",
    "3. Build project โดยการใช้คำสั่ง\n",
    "\n",
    "```\n",
    "dotnet build  Lab08_Ex01\n",
    "```\n"
   ]
  },
  {
   "cell_type": "markdown",
   "metadata": {},
   "source": [
    "\n",
    "4. บันทึกผลที่ได้จากการรันคำสั่งในข้อ 3\n"
   ]
  },
  {
   "cell_type": "markdown",
   "metadata": {},
   "source": [
    "*คำตอบ*"
   ]
  },
  {
   "attachments": {
    "01.png": {
     "image/png": "[encoded data removed]"
    }
   },
   "cell_type": "markdown",
   "metadata": {},
   "source": [
    "![01.png](attachment:01.png)"
   ]
  },
  {
   "cell_type": "markdown",
   "metadata": {},
   "source": [
    "\n",
    "5. Run project โดยการใช้คำสั่ง\n",
    "\n",
    "```\n",
    "dotnet run --project Lab08_Ex01\n",
    "```\n"
   ]
  },
  {
   "cell_type": "markdown",
   "metadata": {},
   "source": [
    "\n",
    "6. บันทึกผลที่ได้จากการรันคำสั่งในข้อ 5\n"
   ]
  },
  {
   "cell_type": "markdown",
   "metadata": {},
   "source": [
    "*คำตอบ*"
   ]
  },
  {
   "attachments": {
    "02.png": {
     "image/png": "[encoded data removed]"
    }
   },
   "cell_type": "markdown",
   "metadata": {},
   "source": [
    "![02.png](attachment:02.png)"
   ]
  },
  {
   "cell_type": "markdown",
   "metadata": {},
   "source": [
    "7. โค้ดต่อไปนี้สามารถรันได้ใน polyglot notebook หรือไม่ "
   ]
  },
  {
   "cell_type": "code",
   "execution_count": 2,
   "metadata": {
    "polyglot_notebook": {
     "kernelName": "csharp"
    }
   },
   "outputs": [
    {
     "name": "stdout",
     "output_type": "stream",
     "text": [
      "Type of p is Submission#2+Person\r\n"
     ]
    }
   ],
   "source": [
    "Person p = new Person();\n",
    "System.Console.WriteLine($\"Type of p is {p.GetType()}\");\n",
    "\n",
    "class Person\n",
    "{\n",
    "\n",
    "}"
   ]
  },
  {
   "cell_type": "markdown",
   "metadata": {},
   "source": [
    "*คำตอบ*"
   ]
  },
  {
   "cell_type": "markdown",
   "metadata": {},
   "source": [
    "โค้ดนี้สามารถรันได้ คำตอบคือ Type of p is Submission#2+Person"
   ]
  },
  {
   "cell_type": "markdown",
   "metadata": {},
   "source": [
    "## คำถาม\n",
    "\n"
   ]
  },
  {
   "cell_type": "markdown",
   "metadata": {},
   "source": [
    "1. Class ในภาษา C# คืออะไร\n"
   ]
  },
  {
   "cell_type": "markdown",
   "metadata": {},
   "source": [
    "*คำตอบ*"
   ]
  },
  {
   "cell_type": "markdown",
   "metadata": {},
   "source": [
    "คือ แม่แบบสำหรับ Object โดยเป็นโครงสร้างที่รวม ตัวแปร, คุณสมบัติ, เมธอด และพฤติกรรมต่างๆ ไว้ในที่เดียวกัน"
   ]
  },
  {
   "cell_type": "markdown",
   "metadata": {},
   "source": [
    "2. Class มีหน้าที่อะไร\n"
   ]
  },
  {
   "cell_type": "markdown",
   "metadata": {},
   "source": [
    "*คำตอบ*"
   ]
  },
  {
   "cell_type": "markdown",
   "metadata": {},
   "source": [
    "เก็บข้อมูล, กำหนดพฤติกรรม, จัดการการเข้าถึงข้อมูล, สร้างแม่แบบสำหรับสร้าง Object"
   ]
  },
  {
   "cell_type": "markdown",
   "metadata": {},
   "source": [
    "3. ทำไมเราต้องใช้ Class\n"
   ]
  },
  {
   "cell_type": "markdown",
   "metadata": {},
   "source": [
    "*คำตอบ*"
   ]
  },
  {
   "cell_type": "markdown",
   "metadata": {},
   "source": [
    "จัดระเบียบโค้ด, ใช้ซ้ำได้, ป้องกันข้อผิดพลาด, ขยายและแก้ไขง่าย, ทำงานกับ OOP ได้เต็มรูปแบบ"
   ]
  },
  {
   "cell_type": "markdown",
   "metadata": {},
   "source": [
    "4. ส่วนประกอบของ Class มีอะไรบ้าง\n"
   ]
  },
  {
   "cell_type": "markdown",
   "metadata": {},
   "source": [
    "*คำตอบ*"
   ]
  },
  {
   "cell_type": "markdown",
   "metadata": {},
   "source": [
    "1. Fields : เก็บข้อมูลหรือสถานะของคลาส\n",
    "\n",
    "2. Properties : ควบคุมการเข้าถึงข้อมูล\n",
    "\n",
    "3. Constructor : เมธอดพิเศษที่ทำงานตอนสร้างอ็อบเจ็กต์\n",
    "\n",
    "4. Methods : ฟังก์ชันที่กำหนดพฤติกรรมของคลาส\n",
    "\n",
    "5. Events : แจ้งเตือนเมื่อมีการเปลี่ยนแปลงสำคัญ\n",
    "\n",
    "6. Delegates : ตัวแทนเมธอดที่สามารถส่งต่อได้"
   ]
  },
  {
   "cell_type": "markdown",
   "metadata": {},
   "source": [
    "5. Class และ Object แตกต่างกันอย่างไร\n"
   ]
  },
  {
   "cell_type": "markdown",
   "metadata": {},
   "source": [
    "*คำตอบ*"
   ]
  },
  {
   "cell_type": "markdown",
   "metadata": {},
   "source": [
    "Class = พิมพ์เขียว หรือแม่แบบ\n",
    "\n",
    "Object = สิ่งที่ถูกสร้างขึ้นตามแบบของคลาส\n",
    "\n",
    "วิธีจำ : คล้ายกับพิมพ์เขียวของบ้าน (Class) และบ้านที่ถูกสร้างขึ้นจริง (Object)"
   ]
  },
  {
   "cell_type": "markdown",
   "metadata": {},
   "source": [
    "6. การตั้งชื่อ Class มีหลักเกณฑ์อย่างไร"
   ]
  },
  {
   "cell_type": "markdown",
   "metadata": {},
   "source": [
    "*คำตอบ*"
   ]
  },
  {
   "cell_type": "markdown",
   "metadata": {},
   "source": [
    "1. ตัวอักษรแรกของทุกคำต้องเป็นตัวใหญ่\n",
    "2. ควรสื่อความหมายชัดเจน\n",
    "3. หลีกเลี่ยงชื่อทั่วไปหรือชื่อที่สั้นเกินไป\n",
    "4. หลีกเลี่ยงอักขระพิเศษ ยกเว้น _ ในบางกรณี\n",
    "5. หลีกเลี่ยงการใช้คำสงวนของ C# เช่น class, public, void\n",
    "6. ถ้าเป็นคลาสที่ใช้เป็นอินเทอร์เฟซ (Interface) ควรขึ้นต้นด้วย \"I\"\n",
    "7. ถ้าเป็นคลาสที่ใช้เป็นเอกสารข้อมูล (Entity) ควรเป็นคำนาม"
   ]
  },
  {
   "cell_type": "markdown",
   "metadata": {},
   "source": [
    "7. คำสั่ง p.GetType() คืออะไร"
   ]
  },
  {
   "cell_type": "markdown",
   "metadata": {},
   "source": [
    "*คำตอบ*"
   ]
  },
  {
   "cell_type": "markdown",
   "metadata": {},
   "source": [
    "เป็นเมธอดที่ใช้สำหรับ คืนค่า Type (ประเภทของอ็อบเจ็กต์) ในขณะรันไทม์ (Runtime) ซึ่งเป็นส่วนหนึ่งของ Reflection ใน C#"
   ]
  },
  {
   "cell_type": "markdown",
   "metadata": {},
   "source": [
    "8. ผลที่ได้จากคำสั่ง  p.GetType() คืออะไร มันให้ข้อมูลอะไรแก่เราบ้าง"
   ]
  },
  {
   "cell_type": "markdown",
   "metadata": {},
   "source": [
    "*คำตอบ*"
   ]
  },
  {
   "cell_type": "markdown",
   "metadata": {},
   "source": [
    "1. ชื่อของคลาส\n",
    "\n",
    "2. เนมสเปซ\n",
    "\n",
    "3. ประเภทของข้อมูล\n",
    "\n",
    "4. เมธอดและพร็อพเพอร์ตี้ที่คลาสมี\n",
    "\n",
    "5. การสืบทอดคลาส\n",
    "\n",
    "6. อินเทอร์เฟซที่คลาสใช้"
   ]
  },
  {
   "cell_type": "markdown",
   "metadata": {},
   "source": [
    "9. ในภาษา C# การประกาศ class ไว้ก่อนหรือหลังการสร้าง  object ต่างกันหรือไม่ "
   ]
  },
  {
   "cell_type": "markdown",
   "metadata": {},
   "source": [
    "ในภาษา C# การประกาศ class ไว้ก่อนหรือหลังการสร้าง object จะ ไม่ต่างกัน เนื่องจาก class เป็นโครงสร้างที่กำหนดประเภทของอ็อบเจ็กต์ไว้ล่วงหน้า และ object จะต้องสร้างจากคลาสที่ประกาศไว้แล้ว ซึ่งทั้งสองวิธีจะทำงานได้ตามปกติ"
   ]
  }
 ],
 "metadata": {
  "kernelspec": {
   "display_name": ".NET (C#)",
   "language": "C#",
   "name": ".net-csharp"
  },
  "polyglot_notebook": {
   "kernelInfo": {
    "defaultKernelName": "csharp",
    "items": [
     {
      "aliases": [],
      "languageName": "csharp",
      "name": "csharp"
     }
    ]
   }
  }
 },
 "nbformat": 4,
 "nbformat_minor": 2
}
