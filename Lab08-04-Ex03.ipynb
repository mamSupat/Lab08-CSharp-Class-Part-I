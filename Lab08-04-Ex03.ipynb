{
 "cells": [
  {
   "cell_type": "markdown",
   "metadata": {
    "dotnet_interactive": {
     "language": "csharp"
    },
    "polyglot_notebook": {
     "kernelName": "csharp"
    }
   },
   "source": [
    "# Lab 8 Exercise 3\n",
    "\n",
    "## การควบคุมการเข้าถึงสมาชิกในคลาส (fields)\n"
   ]
  },
  {
   "cell_type": "markdown",
   "metadata": {},
   "source": [
    "\n",
    "1. สร้าง console application project\n",
    "\n",
    "> ```\n",
    ">     dotnet new console --name Lab08_Ex03\n",
    "> ```\n"
   ]
  },
  {
   "cell_type": "markdown",
   "metadata": {},
   "source": [
    "\n",
    "2. เปลี่ยน code ให้เป็นดังต่อไปนี้\n",
    "\n",
    "> ```csharp\n",
    ">  1. Person p = new Person();\n",
    ">  2. p.name = \"Rambo\";\n",
    ">  3. p.id = \"1987\";\n",
    ">  4. p.income = 2500;\n",
    ">  5. System.Console.WriteLine($\"Type of p is {p.GetType()}\");\n",
    ">  6. System.Console.WriteLine($\"p.name = {p.name}\\ttype = {p.name.GetType()}\");\n",
    ">  7. System.Console.WriteLine($\"p.id = {p.id}\\ttype = {p.id.GetType()}\");\n",
    ">  8. System.Console.WriteLine($\"p.income = {p.income}\\ttype = {p.income.GetType()}\");\n",
    ">  9. \n",
    "> 10. class Person\n",
    "> 11. {\n",
    "> 12.     public string? name;\n",
    "> 13.     public string? id;\n",
    "> 14.     public int income;\n",
    "> 15. }\n",
    "> ```"
   ]
  },
  {
   "cell_type": "markdown",
   "metadata": {},
   "source": [
    "\n",
    "3. Build project โดยการใช้คำสั่ง\n",
    "\n",
    "> ```\n",
    ">     dotnet build  Lab08_Ex03\n",
    "> ```\n"
   ]
  },
  {
   "cell_type": "markdown",
   "metadata": {},
   "source": [
    "\n",
    "4. บันทึกผลที่ได้จากการรันคำสั่งในข้อ 3\n"
   ]
  },
  {
   "cell_type": "markdown",
   "metadata": {},
   "source": [
    "*คำตอบ*"
   ]
  },
  {
   "attachments": {
    "09.png": {
     "image/png": "[encoded data removed]"
    }
   },
   "cell_type": "markdown",
   "metadata": {},
   "source": [
    "![09.png](attachment:09.png)"
   ]
  },
  {
   "cell_type": "markdown",
   "metadata": {},
   "source": [
    "\n",
    "5. Run project โดยการใช้คำสั่ง\n",
    "\n",
    "> ```\n",
    ">     dotnet run --project Lab08_Ex03\n",
    "> ```\n"
   ]
  },
  {
   "cell_type": "markdown",
   "metadata": {},
   "source": [
    "\n",
    "6. บันทึกผลที่ได้จากการรันคำสั่งในข้อ 5\n"
   ]
  },
  {
   "cell_type": "markdown",
   "metadata": {},
   "source": [
    "*คำตอบ*"
   ]
  },
  {
   "attachments": {
    "10.png": {
     "image/png": "[encoded data removed]"
    }
   },
   "cell_type": "markdown",
   "metadata": {},
   "source": [
    "![10.png](attachment:10.png)"
   ]
  },
  {
   "cell_type": "markdown",
   "metadata": {},
   "source": [
    "7. นำโค้ดในข้อ 2  มารันใน code cell\n",
    "\n"
   ]
  },
  {
   "cell_type": "code",
   "execution_count": 1,
   "metadata": {
    "polyglot_notebook": {
     "kernelName": "csharp"
    }
   },
   "outputs": [
    {
     "name": "stdout",
     "output_type": "stream",
     "text": [
      "Type of p is Submission#1+Person\n",
      "p.name = Rambo\ttype = System.String\n",
      "p.id = 1987\ttype = System.String\n",
      "p.income = 2500\ttype = System.Int32\n"
     ]
    }
   ],
   "source": [
    "// code cell สำหรับทดสอบโปรแกรมในข้อ 2 บน polyglot\n",
    "Person p = new Person();\n",
    "p.name = \"Rambo\";\n",
    "p.id = \"1987\";\n",
    "p.income = 2500;\n",
    "System.Console.WriteLine($\"Type of p is {p.GetType()}\");\n",
    "System.Console.WriteLine($\"p.name = {p.name}\\ttype = {p.name.GetType()}\");\n",
    "System.Console.WriteLine($\"p.id = {p.id}\\ttype = {p.id.GetType()}\");\n",
    "System.Console.WriteLine($\"p.income = {p.income}\\ttype = {p.income.GetType()}\");\n",
    "\n",
    "class Person\n",
    "{\n",
    "    public string? name;\n",
    "    public string? id;\n",
    "    public int income;\n",
    "}"
   ]
  },
  {
   "cell_type": "markdown",
   "metadata": {},
   "source": [
    "## คำถาม"
   ]
  },
  {
   "cell_type": "markdown",
   "metadata": {},
   "source": [
    "1. Access modifier ในภาษา C# คืออะไร\n"
   ]
  },
  {
   "cell_type": "markdown",
   "metadata": {},
   "source": [
    "*คำตอบ*"
   ]
  },
  {
   "cell_type": "markdown",
   "metadata": {},
   "source": [
    "คือตัวกำหนดการเข้าถึง เป็นคีย์เวิร์ดที่ใช้กำหนดขอบเขตของการเข้าถึง คลาส (class), ฟิลด์ (field), เมทอด (method) หรือ พร็อพเพอร์ตี้ (property) ว่าสามารถเข้าถึงได้จากที่ไหนบ้าง"
   ]
  },
  {
   "cell_type": "markdown",
   "metadata": {},
   "source": [
    "2. จงอธิบายขอบเขตและการใช้งานของ Access modifier ต่อไปนี้ \n"
   ]
  },
  {
   "cell_type": "markdown",
   "metadata": {},
   "source": [
    "2.1  public\n"
   ]
  },
  {
   "cell_type": "markdown",
   "metadata": {},
   "source": [
    "*คำตอบ*"
   ]
  },
  {
   "cell_type": "markdown",
   "metadata": {},
   "source": [
    "ขอบเขตการเข้าถึง : สามารถเข้าถึงได้จากทุกที่ในโปรแกรม ไม่ว่าจะเป็น คลาสเดียวกัน, คลาสอื่น, หรือแม้แต่ไฟล์อื่นๆ ในโปรเจกต์\n",
    "\n",
    "การใช้งานหลัก : มักใช้กับ คลาส, เมทอด หรือพร็อพเพอร์ตี้ ที่ต้องการให้เข้าถึงได้จากทุกที่"
   ]
  },
  {
   "cell_type": "markdown",
   "metadata": {},
   "source": [
    "2.2 private\n"
   ]
  },
  {
   "cell_type": "markdown",
   "metadata": {},
   "source": [
    "*คำตอบ*"
   ]
  },
  {
   "cell_type": "markdown",
   "metadata": {},
   "source": [
    "ขอบเขตการเข้าถึง : เข้าถึงได้เฉพาะ ภายในคลาสเดียวกัน เท่านั้น\n",
    "\n",
    "การใช้งานหลัก : ใช้กับ ฟิลด์ (fields) และเมทอด (methods) ที่ต้องการให้เป็น ข้อมูลภายในคลาส เพื่อป้องกันการเข้าถึงจากภายนอก"
   ]
  },
  {
   "cell_type": "markdown",
   "metadata": {},
   "source": [
    "2.3 protected\n"
   ]
  },
  {
   "cell_type": "markdown",
   "metadata": {},
   "source": [
    "*คำตอบ*"
   ]
  },
  {
   "cell_type": "markdown",
   "metadata": {},
   "source": [
    "ขอบเขตการเข้าถึง : เข้าถึงได้จากภายในคลาสเดียวกันและเข้าถึงได้จากคลาสที่สืบทอด (Inheritance)\n",
    "\n",
    "การใช้งานหลัก : ใช้สำหรับข้อมูลหรือเมทอดที่ต้องการให้ คลาสลูกสามารถใช้ได้ แต่ไม่ต้องการให้คลาสอื่นๆ เข้าถึงโดยตรง"
   ]
  },
  {
   "cell_type": "markdown",
   "metadata": {},
   "source": [
    "2.4 internal\n"
   ]
  },
  {
   "cell_type": "markdown",
   "metadata": {},
   "source": [
    "*คำตอบ*"
   ]
  },
  {
   "cell_type": "markdown",
   "metadata": {},
   "source": [
    "ขอบเขตการเข้าถึง : สามารถเข้าถึงได้ ภายในโปรเจกต์เดียวกัน (Assembly เดียวกัน)\n",
    "\n",
    "การใช้งานหลัก : ใช้กับคลาสหรือเมทอดที่ต้องการให้ ทุกคลาสในโปรเจกต์สามารถใช้ได้ แต่ไม่ต้องการให้ถูกใช้งานจากโปรเจกต์อื่นที่อ้างอิง (Encapsulation ระดับ Assembly)"
   ]
  },
  {
   "cell_type": "markdown",
   "metadata": {},
   "source": [
    "2.5 protected internal"
   ]
  },
  {
   "cell_type": "markdown",
   "metadata": {},
   "source": [
    "*คำตอบ*"
   ]
  },
  {
   "cell_type": "markdown",
   "metadata": {},
   "source": [
    "ขอบเขตการเข้าถึง : เข้าถึงได้จาก คลาสลูก (Derived Class) ไม่ว่าอยู่ในโปรเจกต์ไหนและเข้าถึงได้จากคลาสภายในโปรเจกต์เดียวกัน\n",
    "\n",
    "การใช้งานหลัก : ใช้กับข้อมูลที่ต้องการให้คลาสลูกในโปรเจกต์อื่นสามารถเข้าถึง แต่ไม่เปิดให้ทุกคลาสในโปรเจกต์อื่นใช้งาน"
   ]
  },
  {
   "cell_type": "markdown",
   "metadata": {},
   "source": [
    "3. ถ้าแก้ไขโค้ดในบรรทัดที่ 14 เป็นดังต่อไปนี้  จะได้ผลการ build หรือ run เป็นอย่างไร \n",
    "```csharp\n",
    "    private int income;\n",
    "```"
   ]
  },
  {
   "cell_type": "code",
   "execution_count": 2,
   "metadata": {
    "dotnet_interactive": {
     "language": "csharp"
    },
    "polyglot_notebook": {
     "kernelName": "csharp"
    }
   },
   "outputs": [
    {
     "ename": "Error",
     "evalue": "(5,4): error CS0122: 'Person.income' is inaccessible due to its protection level\r\n(9,43): error CS0122: 'Person.income' is inaccessible due to its protection level\r\n(9,62): error CS0122: 'Person.income' is inaccessible due to its protection level",
     "output_type": "error",
     "traceback": [
      "(5,4): error CS0122: 'Person.income' is inaccessible due to its protection level\r\n",
      "(9,43): error CS0122: 'Person.income' is inaccessible due to its protection level\r\n",
      "(9,62): error CS0122: 'Person.income' is inaccessible due to its protection level"
     ]
    }
   ],
   "source": [
    "// พื้นที่เขียน code และทดสอบ\n",
    " Person p = new Person();\n",
    " p.name = \"Rambo\";\n",
    " p.id = \"1987\";\n",
    " p.income = 2500;\n",
    " System.Console.WriteLine($\"Type of p is {p.GetType()}\");\n",
    " System.Console.WriteLine($\"p.name = {p.name}\\ttype = {p.name.GetType()}\");\n",
    " System.Console.WriteLine($\"p.id = {p.id}\\ttype = {p.id.GetType()}\");\n",
    " System.Console.WriteLine($\"p.income = {p.income}\\ttype = {p.income.GetType()}\");\n",
    " \n",
    " class Person\n",
    " {\n",
    "     public string? name;\n",
    "     public string? id;\n",
    "     private int income;\n",
    " }"
   ]
  },
  {
   "cell_type": "markdown",
   "metadata": {},
   "source": [
    "*คำตอบ*"
   ]
  },
  {
   "cell_type": "markdown",
   "metadata": {},
   "source": [
    "Error: (5,4): error CS0122: 'Person.income' is inaccessible due to its protection level\n",
    "\n",
    "(9,43): error CS0122: 'Person.income' is inaccessible due to its protection level\n",
    "\n",
    "(9,62): error CS0122: 'Person.income' is inaccessible due to its protection level"
   ]
  },
  {
   "cell_type": "markdown",
   "metadata": {},
   "source": [
    "4. ถ้าแก้ไขโค้ดในบรรทัดที่ 13 เป็นดังต่อไปนี้  จะได้ผลการ build หรือ run เป็นอย่างไร \n",
    "```csharp\n",
    "    protected string? name;\n",
    "```"
   ]
  },
  {
   "cell_type": "code",
   "execution_count": 3,
   "metadata": {
    "dotnet_interactive": {
     "language": "csharp"
    },
    "polyglot_notebook": {
     "kernelName": "csharp"
    }
   },
   "outputs": [
    {
     "ename": "Error",
     "evalue": "(3,4): error CS0122: 'Person.name' is inaccessible due to its protection level\r\n(7,41): error CS0122: 'Person.name' is inaccessible due to its protection level\r\n(7,58): error CS0122: 'Person.name' is inaccessible due to its protection level",
     "output_type": "error",
     "traceback": [
      "(3,4): error CS0122: 'Person.name' is inaccessible due to its protection level\r\n",
      "(7,41): error CS0122: 'Person.name' is inaccessible due to its protection level\r\n",
      "(7,58): error CS0122: 'Person.name' is inaccessible due to its protection level"
     ]
    }
   ],
   "source": [
    "// พื้นที่เขียน code และทดสอบ\n",
    "Person p = new Person();\n",
    " p.name = \"Rambo\";\n",
    " p.id = \"1987\";\n",
    " p.income = 2500;\n",
    " System.Console.WriteLine($\"Type of p is {p.GetType()}\");\n",
    " System.Console.WriteLine($\"p.name = {p.name}\\ttype = {p.name.GetType()}\");\n",
    " System.Console.WriteLine($\"p.id = {p.id}\\ttype = {p.id.GetType()}\");\n",
    " System.Console.WriteLine($\"p.income = {p.income}\\ttype = {p.income.GetType()}\");\n",
    " \n",
    " class Person\n",
    " {\n",
    "     protected string? name;\n",
    "     public string? id;\n",
    "     public int income;\n",
    " }"
   ]
  },
  {
   "cell_type": "markdown",
   "metadata": {},
   "source": [
    "*คำตอบ*"
   ]
  },
  {
   "cell_type": "markdown",
   "metadata": {},
   "source": [
    "Error: (3,4): error CS0122: 'Person.name' is inaccessible due to its protection level\n",
    "\n",
    "(7,41): error CS0122: 'Person.name' is inaccessible due to its protection level\n",
    "\n",
    "(7,58): error CS0122: 'Person.name' is inaccessible due to its protection level"
   ]
  },
  {
   "cell_type": "markdown",
   "metadata": {},
   "source": [
    "3. เครื่องหมาย `?` ในบรรทัดที่ 13 `protected string? name;` มีความหมายว่าอย่างไร  "
   ]
  },
  {
   "cell_type": "markdown",
   "metadata": {},
   "source": [
    "*คำตอบ*"
   ]
  },
  {
   "cell_type": "markdown",
   "metadata": {},
   "source": [
    "ตัวแปร name สามารถมีค่าเป็น null ได้ ซึ่งเป็นฟีเจอร์ที่ถูกเพิ่มเข้ามาใน C# 8.0 เพื่อช่วยลดปัญหา NullReferenceException ที่เกิดจากการใช้ค่าที่เป็น null โดยไม่ระวัง"
   ]
  }
 ],
 "metadata": {
  "kernelspec": {
   "display_name": ".NET (C#)",
   "language": "C#",
   "name": ".net-csharp"
  },
  "polyglot_notebook": {
   "kernelInfo": {
    "defaultKernelName": "csharp",
    "items": [
     {
      "aliases": [],
      "languageName": "csharp",
      "name": "csharp"
     }
    ]
   }
  }
 },
 "nbformat": 4,
 "nbformat_minor": 2
}
